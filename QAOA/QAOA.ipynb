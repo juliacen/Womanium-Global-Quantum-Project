{
 "cells": [
  {
   "cell_type": "markdown",
   "id": "a8b73d24",
   "metadata": {},
   "source": [
    "<table width=\"100%\"><tr><td style=\"color:#bbbbbb;background-color:#ffffff;font-size:11px;font-style:italic;text-align:right;\">This cell contains some macros. If there is a problem with displaying mathematical formulas, please run this cell to load these macros. </td></tr></table>\n",
    "$ \\newcommand{\\bra}[1]{\\langle #1|} $\n",
    "$ \\newcommand{\\ket}[1]{|#1\\rangle} $\n",
    "$ \\newcommand{\\braket}[2]{\\langle #1|#2\\rangle} $\n",
    "$ \\newcommand{\\dot}[2]{ #1 \\cdot #2} $\n",
    "$ \\newcommand{\\biginner}[2]{\\left\\langle #1,#2\\right\\rangle} $\n",
    "$ \\newcommand{\\mymatrix}[2]{\\left( \\begin{array}{#1} #2\\end{array} \\right)} $\n",
    "$ \\newcommand{\\myvector}[1]{\\mymatrix{c}{#1}} $\n",
    "$ \\newcommand{\\myrvector}[1]{\\mymatrix{r}{#1}} $\n",
    "$ \\newcommand{\\mypar}[1]{\\left( #1 \\right)} $\n",
    "$ \\newcommand{\\mybigpar}[1]{ \\Big( #1 \\Big)} $\n",
    "$ \\newcommand{\\sqrttwo}{\\frac{1}{\\sqrt{2}}} $\n",
    "$ \\newcommand{\\dsqrttwo}{\\dfrac{1}{\\sqrt{2}}} $\n",
    "$ \\newcommand{\\onehalf}{\\frac{1}{2}} $\n",
    "$ \\newcommand{\\donehalf}{\\dfrac{1}{2}} $\n",
    "$ \\newcommand{\\hadamard}{ \\mymatrix{rr}{ \\sqrttwo & \\sqrttwo \\\\ \\sqrttwo & -\\sqrttwo }} $\n",
    "$ \\newcommand{\\vzero}{\\myvector{1\\\\0}} $\n",
    "$ \\newcommand{\\vone}{\\myvector{0\\\\1}} $\n",
    "$ \\newcommand{\\vhadamardzero}{\\myvector{ \\sqrttwo \\\\  \\sqrttwo } } $\n",
    "$ \\newcommand{\\vhadamardone}{ \\myrvector{ \\sqrttwo \\\\ -\\sqrttwo } } $\n",
    "$ \\newcommand{\\myarray}[2]{ \\begin{array}{#1}#2\\end{array}} $\n",
    "$ \\newcommand{\\X}{ \\mymatrix{cc}{0 & 1 \\\\ 1 & 0}  } $\n",
    "$ \\newcommand{\\Z}{ \\mymatrix{rr}{1 & 0 \\\\ 0 & -1}  } $\n",
    "$ \\newcommand{\\Htwo}{ \\mymatrix{rrrr}{ \\frac{1}{2} & \\frac{1}{2} & \\frac{1}{2} & \\frac{1}{2} \\\\ \\frac{1}{2} & -\\frac{1}{2} & \\frac{1}{2} & -\\frac{1}{2} \\\\ \\frac{1}{2} & \\frac{1}{2} & -\\frac{1}{2} & -\\frac{1}{2} \\\\ \\frac{1}{2} & -\\frac{1}{2} & -\\frac{1}{2} & \\frac{1}{2} } } $\n",
    "$ \\newcommand{\\CNOT}{ \\mymatrix{cccc}{1 & 0 & 0 & 0 \\\\ 0 & 1 & 0 & 0 \\\\ 0 & 0 & 0 & 1 \\\\ 0 & 0 & 1 & 0} } $\n",
    "$ \\newcommand{\\norm}[1]{ \\left\\lVert #1 \\right\\rVert } $\n",
    "$ \\newcommand{\\pstate}[1]{ \\lceil \\mspace{-1mu} #1 \\mspace{-1.5mu} \\rfloor } $"
   ]
  },
  {
   "cell_type": "markdown",
   "id": "3e4243f1",
   "metadata": {},
   "source": [
    "#  Quantum Approximate Optimization Algorithm (QAOA)\n",
    "\n",
    "In this notebook, we will introduce the Quantum Approximate Optimization Algorithm (QAOA) and see how to implement the algorithm for the Max-Cut problem using pyQuil, the Python library for quantum programming using Quil from Rigetti Computing following [1]. Instructions on how to install pyQuil can be found [here](https://pyquil-docs.rigetti.com/en/stable/index.html).\n"
   ]
  },
  {
   "cell_type": "markdown",
   "id": "17e5496c",
   "metadata": {},
   "source": [
    "## What is QAOA?\n",
    "\n",
    "QAOA, first introduced by Farhi et al. [2], is a hybrid quantum-classical algorithm (using both classical and quantum computation) that helps find an approximate solution for combinatoral optimization problems. \n"
   ]
  },
  {
   "cell_type": "markdown",
   "id": "9630423e",
   "metadata": {},
   "source": [
    "## What are Combinatorial Optimization Problems?\n",
    "\n",
    "In a combinatorial optimization problem, the goal is that given some binary constraints $\\alpha$ over bitstrings of length n, $\\it{z}\\in \\{0,1\\}^{n}$, we want to find the bitstring that maximizes the objective function\n",
    "$$\n",
    "\\text{argmax}_{\\it{z}}C (\\it{z}) = \\text{argmax}_{\\it{z}} \\sum_{\\alpha =1}^{m} C (\\it{z}),\n",
    "$$\n",
    "where \n",
    "$$\n",
    "C_{\\alpha} (\\it{z}) = \\begin{cases}\n",
    "1, & \\text{if} \\, \\it{z} \\, \\text{satisfies the constraint} \\, \\alpha \\\\\n",
    "0, & \\text{if} \\, \\it{z} \\, \\text{does not satisfy the constraint} \\,\\alpha\n",
    "\\end{cases}\n",
    "$$\n",
    "\n",
    "are functions that takes in a bitstring and outputs $0$ or $1$, depending on whether it satisfies the constraint. \n",
    "\n",
    "There are various different examples such as the Traveling Salesman problem and Max-Cut problem. Here, we will focus on solving a Max-Cut problem with QAOA.\n"
   ]
  },
  {
   "cell_type": "markdown",
   "id": "a3084fae",
   "metadata": {},
   "source": [
    "## Why QAOA?\n",
    "\n",
    "In QNickel, we saw an example of solving the Max-Cut problem with Grover's algorithm, so the question is why use QAOA? The answer is although there has been great progress, we do not have fault-tolerant quantum computers yet. So in the meantime, we use a quantum-classical hybrid approach, so that we only use quantum computers for parts of the problem where cassical computers having difficulty computing."
   ]
  },
  {
   "cell_type": "markdown",
   "id": "194361b4",
   "metadata": {},
   "source": [
    "## How does QAOA work?\n",
    "\n",
    "QAOA is a hybrid algorithm. A general hybrid algorithm works as follows.\n",
    "\n",
    "<img src=\"Hybrid.png\" width=\"50%\">\n",
    "\n",
    "There is a classical processing unit (CPU) and quantum processing unit (QPU). The idea is:\n",
    "\n",
    "1) The CPU sends a parametrized circuit to the QPU with some initial guess of parameters.\n",
    "\n",
    "2) The QPU will then run this circuit for a number of shots, compute some observable and sample it.\n",
    "\n",
    "3) We feed the sample back to the CPU. \n",
    "\n",
    "4) The CPU can then further optimize parameters for the objective function.\n",
    "\n",
    "You repeat this cycle until you get a convergence to a good choice of parameters that optimizes your objective function.\n",
    "\n"
   ]
  },
  {
   "cell_type": "markdown",
   "id": "2ce0cc11",
   "metadata": {},
   "source": [
    "## Application of QAOA to the Max-Cut Problem\n",
    "\n",
    "Now let us look at a more specific example, the Max-Cut problem with QAOA. Consider the folowing undirected graph with three nodes and three edges.\n",
    "\n",
    "<img src=\"Three.png\" width=\"25%\" align=\"center\">"
   ]
  },
  {
   "cell_type": "markdown",
   "id": "a579b643",
   "metadata": {},
   "source": [
    "\n",
    "\n",
    "The Max-Cut problem is to find a partition of the nodes of the such that the edges between them is maximum or the maximum number of cuts of edges such that the ends of nodes are different colors. We can easily see that for this graph, the Max-Cut would be two and we choose to represent the partition of nodes with two colors, red and blue. Any of the following would be valid cuts/partitions.\n",
    "\n",
    "<img src=\"Cuts.png\" width=\"75%\" align=\"center\">"
   ]
  },
  {
   "cell_type": "markdown",
   "id": "19071d05",
   "metadata": {},
   "source": [
    "The solution to this problem can also be represented in binary format with qubits by taking the three nodes of the graph to be three qubits, then allocate the state $\\ket{0}$ or $\\ket{1}$ to represent the color (red/blue) of or which partition the node belongs to. For the present graph, our solution can be represented by any of the following states $\\ket{001},\\ket{110},\\ket{100},\\ket{011},\\ket{101},\\ket{010}$."
   ]
  },
  {
   "cell_type": "markdown",
   "id": "53f89411",
   "metadata": {},
   "source": [
    "To use QAOA to help us find these solutions, let us start with the Hadamard state as the initial state\n",
    "\n",
    "$$\n",
    "\\ket{+} = \\frac{1}{\\sqrt{2^{n}}}\\sum_{x=0}^{2^{n}-1}\\ket{x},\n",
    "$$\n",
    "\n",
    "which is just the equal superposition of all possible answers. This state will go throuh a parametrized quantum circuit that is made of a chain of 'Cost (C)' (specific to the Max-Cut problem and the function we want to maximize) \n",
    "\n",
    "$$\n",
    "H_{C}\\left( \\gamma\\right) = e^{-i\\gamma C} \\quad \\text{where} \\quad \\text{C}=\\frac{1}{2}\\sum_{i,j=0}^{n-1}\\omega_{ij}\\frac{1-Z_{i}Z_{j}}{2},\n",
    "$$\n",
    "\n",
    "and 'Mixer (M)' Hamiltonians \n",
    "\n",
    "$$\n",
    "H_{M}\\left( \\beta\\right) = e^{-i\\beta B} \\quad \\text{where} \\quad \\text{M}=\\sum_{j=0}^{n-1}X_{j}.\n",
    "$$\n",
    "\n",
    "$n-1$ represents the number of nodes in our problem and $\\omega_{ij}$ is the weight between the $i^{th}$ and $j^{th}$ nodes. So if there exists an edge between the two nodes, we give this a weight of one, if there does not exist an edge, then a weight of zero.\n",
    "\n",
    "The final state\n",
    "$$\n",
    "\\ket{\\psi} = e^{-i\\beta_{p}M}e^{-i\\gamma_{p}C}\\cdots e^{-i\\beta_{1}M}e^{-i\\gamma_{1}C}\\ket{+}\n",
    "$$\n",
    "\n",
    "is the result of acting the chain of alternating Cost and Mixer Hamiltonians on our initial state. $p$ defines the number of layers, i.e. the number of times we act with $H_{C}H_{M}$, then we can take measurements. The quantum circuit will look like the following.\n",
    "\n",
    "<img src=\"Layers.png\" width=\"75%\">"
   ]
  },
  {
   "cell_type": "markdown",
   "id": "07ef1f38",
   "metadata": {},
   "source": [
    "\n",
    "Now, there are two remaining components we have not discussed. First are the parameters $\\beta$ and $\\gamma$. These are the parameters we would like to optimize in order to help us reach the optimal solution. Second are the Mixer (M) and Cost (C) terms. M composes of $X_{j}$'s which acts individually on every qubit and C is composed of two-qubit terms, $Z_{i}Z_{j}$ on the $i^{th}$ and $j^{th}$ qubits respectively. But what happens when we exponentiate them? This is where we need to introduce a new formula called the Baker-Campbell-Hausdorff (BCH) Formula.\n",
    "\n",
    "\n",
    "### Baker-Campbell-Hausdorff (BCH) Formula\n",
    "\n",
    "The BCH formula is given by\n",
    "\n",
    "$$\n",
    "e^{X}e^{Y} = e^{Z} \\quad \\text{where} \\quad Z = X+Y \\quad \\text{if} \\quad [X,Y] =0.\n",
    "$$\n",
    "\n",
    "Note the condition $[X,Y] =0$. This means our formula is only valid only when the two operators $X$ and $Y$ commute and hence as\n",
    "\n",
    "\\begin{align}\n",
    "[Z_{i}Z_{j},Z_{m}Z_{n}] &=0,\\\\\n",
    "[X_{i},X_{j}]&=0,\n",
    "\\end{align}\n",
    "\n",
    "then\n",
    "\n",
    "\\begin{align}\n",
    "e^{i\\beta\\sum_{i}X_{i}} &=  \\prod_{i} e^{i\\beta X_{i}} = (e^{i\\beta X_{0}})\\cdots(e^{i\\beta X_{n-1}}),\\\\\n",
    "e^{i\\gamma\\sum_{\\langle ij\\rangle } Z_{i}Z_{j}} &=  \\prod_{\\langle ij\\rangle } e^{i\\gamma Z_{i}Z_{j}}= (e^{i\\gamma Z_{0}Z_{1}})\\cdots(e^{i\\gamma Z_{n-2}Z_{n-1}}).\\\\\n",
    "\\end{align}"
   ]
  },
  {
   "cell_type": "markdown",
   "id": "c1fa17b9",
   "metadata": {},
   "source": [
    "$e^{-i\\beta X_{i}}$ is a rotation about the X-axis, which is the single-qubit gate $RX(2\\beta )$ and we can check\n",
    "\n",
    "\\begin{align}\n",
    " e^{-i\\beta X_{i}}\\ket{0}_{i}&=\\cos\\beta\\ket{0}-i\\sin\\beta\\ket{1},\\\\\n",
    " e^{-i\\beta X_{i}}\\ket{1}_{i}&=\\cos\\beta\\ket{1}-i\\sin\\beta\\ket{0}.\n",
    "\\end{align}\n",
    "\n",
    "$e^{-i\\gamma Z_{i}Z_{j}}$ is a two-qubit operation which changes the sign of our phase from negative to positive whenever the two qubits are in different states, i.e. $\\ket{0}_{i}\\ket{1}_{j}$ or $\\ket{1}_{i}\\ket{0}_{j}$. \n",
    "\n",
    "\\begin{align}\n",
    "e^{-i\\gamma Z_{i}Z_{j}}\\ket{0}_{i}\\ket{0}_{j}&=e^{-i\\gamma}\\ket{0}_{i}\\ket{0}_{j} \\quad e^{-i\\gamma Z_{i}Z_{j}}\\ket{0}_{i}\\ket{1}_{j}=e^{i\\gamma}\\ket{0}_{i}\\ket{1}_{j}\\\\\n",
    "e^{-i\\gamma Z_{i}Z_{j}}\\ket{1}_{i}\\ket{1}_{j}&=e^{-i\\gamma}\\ket{1}_{i}\\ket{1}_{j} \\quad e^{-i\\gamma Z_{i}Z_{j}}\\ket{1}_{i}\\ket{0}_{j}=e^{i\\gamma}\\ket{1}_{i}\\ket{0}_{j}\\\\\n",
    "\\end{align}\n",
    "\n",
    "Translating this to our graph, this just means that the nodes at the end of the edge are in different colors or partitions. We can check $e^{-i\\gamma Z_{i}Z_{j}}$ can be given by the following quantum circuit\n",
    "\n",
    "<img src=\"Cost.png\" width=\"40%\">\n"
   ]
  },
  {
   "cell_type": "markdown",
   "id": "81e8f3d7",
   "metadata": {},
   "source": [
    "Now we have all the ingredients to start coding our quantum circuit. To begin, it is always nice to have a visual of our graph. The Python package NetworkX is great for this."
   ]
  },
  {
   "cell_type": "code",
   "execution_count": 4,
   "id": "6d2c8254",
   "metadata": {},
   "outputs": [],
   "source": [
    "import networkx as nx"
   ]
  },
  {
   "cell_type": "code",
   "execution_count": 5,
   "id": "10c08434",
   "metadata": {},
   "outputs": [],
   "source": [
    "#Define our nodes as qubits\n",
    "qubits = [0, 1, 2]"
   ]
  },
  {
   "cell_type": "code",
   "execution_count": 4,
   "id": "9fd16341",
   "metadata": {},
   "outputs": [
    {
     "data": {
      "image/png": "[encoded data removed]",
      "text/plain": [
       "<Figure size 640x480 with 1 Axes>"
      ]
     },
     "metadata": {},
     "output_type": "display_data"
    }
   ],
   "source": [
    "# Initialize empty graph\n",
    "G = nx.Graph()\n",
    "# Add the edges\n",
    "G.add_edges_from([(qubits[0], qubits[1]), (qubits[1], qubits[2]), (qubits[2], qubits[0])])\n",
    "# Plot graph\n",
    "nx.draw_networkx(G)"
   ]
  },
  {
   "cell_type": "markdown",
   "id": "da7d2b47",
   "metadata": {},
   "source": [
    "Now we can start writing our QAOA program. First, let us import the following."
   ]
  },
  {
   "cell_type": "code",
   "execution_count": 3,
   "id": "0cea1794",
   "metadata": {},
   "outputs": [],
   "source": [
    "import numpy as np\n",
    "\n",
    "from pyquil import Program\n",
    "from pyquil.api import WavefunctionSimulator\n",
    "from pyquil.gates import *\n",
    "from pyquil.paulis import *"
   ]
  },
  {
   "cell_type": "markdown",
   "id": "d2f1b560",
   "metadata": {},
   "source": [
    "We will use the `WavefunctionSimulator` for our quantum simulation."
   ]
  },
  {
   "cell_type": "code",
   "execution_count": 6,
   "id": "0cdb78c6",
   "metadata": {},
   "outputs": [],
   "source": [
    "wfn_sim = WavefunctionSimulator()"
   ]
  },
  {
   "cell_type": "markdown",
   "id": "bbb408fa",
   "metadata": {},
   "source": [
    "Define the Cost and Mixer terms. This is pretty straightforward. We can simplify the Cost term such that the problem becomes finding the minimum of $\\sum ZZ$ instead of the maximum of $\\frac{1}{2} \\sum I - ZZ$."
   ]
  },
  {
   "cell_type": "code",
   "execution_count": 7,
   "id": "dea9a649",
   "metadata": {},
   "outputs": [],
   "source": [
    "# Cost term of the 3-node graph\n",
    "q0, q1, q2 = qubits\n",
    "cost = sZ(q0) * sZ(q1) + sZ(q1) * sZ(q2) + sZ(q0) * sZ(q2) "
   ]
  },
  {
   "cell_type": "markdown",
   "id": "b46b28db",
   "metadata": {},
   "source": [
    "The Mixer term is $\\sum X$."
   ]
  },
  {
   "cell_type": "code",
   "execution_count": 8,
   "id": "429c1664",
   "metadata": {},
   "outputs": [],
   "source": [
    "# Mixer term of the 3-node graph\n",
    "mixer = sX(q0) + sX(q1)+ sX(q2)"
   ]
  },
  {
   "cell_type": "markdown",
   "id": "a499a4d8",
   "metadata": {},
   "source": [
    "Then, we initialize our quantum program. We shall take $p=1$, which means we just have two parametric variables $\\gamma_{1}, \\beta_{1}$. The initial state as discussed above is the Hadamard state. We also use `exponential_map` from pyQuil to exponentiate the Cost and Mixer terms."
   ]
  },
  {
   "cell_type": "code",
   "execution_count": 9,
   "id": "6b270d23",
   "metadata": {},
   "outputs": [],
   "source": [
    "# Initialize an empty Program\n",
    "qaoa_prog = Program()\n",
    "\n",
    "# Declare some parametric variables \n",
    "gamma = qaoa_prog.declare('gamma', 'REAL', 1)\n",
    "beta = qaoa_prog.declare('beta', 'REAL', 1)\n",
    "\n",
    "# Initial state\n",
    "for q in qubits:\n",
    "    qaoa_prog += H(q)\n",
    "    \n",
    "# Cost Hamiltonian\n",
    "for ham_term in cost:\n",
    "    qaoa_prog += exponential_map(ham_term)(gamma)\n",
    "    \n",
    "# Mixer Hamiltonian\n",
    "for mixer_term in mixer:\n",
    "    qaoa_prog += exponential_map(mixer_term)(beta)"
   ]
  },
  {
   "cell_type": "markdown",
   "id": "5312dcff",
   "metadata": {},
   "source": [
    "Now, we can take two random values for the two parametric variables, run the quantum simulation and print the output state. Let us take both to be something small."
   ]
  },
  {
   "cell_type": "code",
   "execution_count": 12,
   "id": "64b50e93",
   "metadata": {},
   "outputs": [
    {
     "name": "stdout",
     "output_type": "stream",
     "text": [
      "(0.3328294475-0.2079483001j)|000> + (0.3328294475-0.0674678691j)|001> + (0.3328294475-0.0674678691j)|010> + (0.3328294475-0.0674678691j)|011> + (0.3328294475-0.0674678691j)|100> + (0.3328294475-0.0674678691j)|101> + (0.3328294475-0.0674678691j)|110> + (0.3328294475-0.2079483001j)|111>\n"
     ]
    }
   ],
   "source": [
    "gamma = beta = 0.1\n",
    "wfn = wfn_sim.wavefunction(qaoa_prog, memory_map={'gamma': [gamma], 'beta': [beta]})\n",
    "print(wfn)"
   ]
  },
  {
   "cell_type": "markdown",
   "id": "78e258fa",
   "metadata": {},
   "source": [
    "You should see the amplitudes for states $\\ket{000}$ and $\\ket{111}$ are the same. Similarly, the amplitudes of the remaining six states (what we expect to be our solutions) are also equivalent. This is as expected, and when we further optimize, the amplitudes for those states that are not solutions should decrease."
   ]
  },
  {
   "cell_type": "markdown",
   "id": "bf15141c",
   "metadata": {},
   "source": [
    "Let us also compute the expectation. This is the value that we want to minimize in order to find our optimal solution."
   ]
  },
  {
   "cell_type": "code",
   "execution_count": 13,
   "id": "681275e4",
   "metadata": {},
   "outputs": [
    {
     "name": "stdout",
     "output_type": "stream",
     "text": [
      "0.2321434929904852\n"
     ]
    }
   ],
   "source": [
    "expect = wfn_sim.expectation(qaoa_prog, cost, memory_map={'gamma': [gamma], 'beta': [beta]})\n",
    "print(expect)"
   ]
  },
  {
   "cell_type": "markdown",
   "id": "366e957a",
   "metadata": {},
   "source": [
    "Since our Hamiltonian problem is still rather simple, we can compute the true minimum eigenvalue to compare with the expectation."
   ]
  },
  {
   "cell_type": "code",
   "execution_count": 14,
   "id": "8a02ab28",
   "metadata": {},
   "outputs": [
    {
     "name": "stdout",
     "output_type": "stream",
     "text": [
      "Min eigenvalue: -1.0\n"
     ]
    }
   ],
   "source": [
    "from pyquil.simulation.tools import lifted_pauli\n",
    "\n",
    "# obtain the matrix form of the cost Hamiltonian operator\n",
    "mat = lifted_pauli(cost, cost.get_qubits())\n",
    "\n",
    "# obtain its eigenvalues\n",
    "eigvals, eigvecs = np.linalg.eig(mat)\n",
    "# obtain the minimum eigenvalue\n",
    "min_eigval = np.min(eigvals)\n",
    "# print the minimum eigenvalue, checking it is real\n",
    "assert np.isclose(min_eigval.imag, 0.0)   \n",
    "min_eigval = np.real(min_eigval)\n",
    "print(f\"Min eigenvalue: {min_eigval}\")"
   ]
  },
  {
   "cell_type": "code",
   "execution_count": 15,
   "id": "59b8aedd",
   "metadata": {},
   "outputs": [
    {
     "name": "stdout",
     "output_type": "stream",
     "text": [
      "Performance ratio: 0.2321434929904852\n"
     ]
    }
   ],
   "source": [
    "performance_ratio = np.abs(expect) / np.abs(min_eigval)\n",
    "print(f\"Performance ratio: {performance_ratio}\")"
   ]
  },
  {
   "cell_type": "markdown",
   "id": "30313fe5",
   "metadata": {},
   "source": [
    "Now let use continue by carrying out an optimization classically. We shall use `COBYLA`, but one can choose others."
   ]
  },
  {
   "cell_type": "code",
   "execution_count": 18,
   "id": "a3a038e8",
   "metadata": {},
   "outputs": [],
   "source": [
    "from scipy.optimize import minimize"
   ]
  },
  {
   "cell_type": "code",
   "execution_count": 19,
   "id": "6eaedcbf",
   "metadata": {},
   "outputs": [],
   "source": [
    "def objective(angles):\n",
    "    global wfn_sim\n",
    "    global qaoa_prog\n",
    "    global cost\n",
    "    gamma, beta = angles\n",
    "    obs = wfn_sim.expectation(qaoa_prog, cost, memory_map={'gamma': [gamma], 'beta': [beta]})\n",
    "    return obs"
   ]
  },
  {
   "cell_type": "code",
   "execution_count": 23,
   "id": "61e50803",
   "metadata": {},
   "outputs": [
    {
     "name": "stdout",
     "output_type": "stream",
     "text": [
      "Success: True\n",
      "Optimal value: -0.9999996474272451\n",
      "Optimal angles: [1.2631571  0.30763062]\n"
     ]
    }
   ],
   "source": [
    "initial_guess=[gamma, beta]\n",
    "res = minimize(objective, x0=initial_guess, method='COBYLA')\n",
    "\n",
    "print(f\"Success: {res.success}\")\n",
    "print(f\"Optimal value: {res.fun}\")\n",
    "print(f\"Optimal angles: {res.x}\")\n"
   ]
  },
  {
   "cell_type": "code",
   "execution_count": 22,
   "id": "2a01c3de",
   "metadata": {},
   "outputs": [
    {
     "name": "stdout",
     "output_type": "stream",
     "text": [
      "Performance ratio: 0.9999996474272451\n"
     ]
    }
   ],
   "source": [
    "performance_ratio = np.abs(res.fun) / np.abs(min_eigval)\n",
    "print(f\"Performance ratio: {performance_ratio}\")"
   ]
  },
  {
   "cell_type": "markdown",
   "id": "73c10069",
   "metadata": {},
   "source": [
    "How does the performance ratio compare before and now after optimization?"
   ]
  },
  {
   "cell_type": "markdown",
   "id": "d2fb749b",
   "metadata": {},
   "source": [
    "### Task 1\n",
    "\n",
    "Repeat the above example for larger rings / polygons. What do you notice about the perfomance ratios?\n"
   ]
  },
  {
   "cell_type": "markdown",
   "id": "7de06ff0",
   "metadata": {},
   "source": [
    "### Task 2\n",
    "\n",
    "Repeat Task 1 for more layers of the quantum circuit, i.e. for $p=2,3$ etc. What do you notice about the perfomance ratios now?\n"
   ]
  },
  {
   "cell_type": "markdown",
   "id": "7894f8b5",
   "metadata": {},
   "source": [
    "### References\n",
    "\n",
    "[1] S. Alam, Rigetti Computing Lectures, IBA Karachi (2020).\n",
    "\n",
    "[2] E. Farhi, J. Goldstone, and S. Gutmann, A Quantum Approximate Optimization Algorithm, arXiv.1411.4028 (2014)."
   ]
  }
 ],
 "metadata": {
  "kernelspec": {
   "display_name": "Python 3 (ipykernel)",
   "language": "python",
   "name": "python3"
  },
  "language_info": {
   "codemirror_mode": {
    "name": "ipython",
    "version": 3
   },
   "file_extension": ".py",
   "mimetype": "text/x-python",
   "name": "python",
   "nbconvert_exporter": "python",
   "pygments_lexer": "ipython3",
   "version": "3.9.17"
  }
 },
 "nbformat": 4,
 "nbformat_minor": 5
}
