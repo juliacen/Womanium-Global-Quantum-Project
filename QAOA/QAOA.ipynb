{
 "cells": [
  {
   "cell_type": "markdown",
   "id": "a8b73d24",
   "metadata": {},
   "source": [
    "<table width=\"100%\"><tr><td style=\"color:#bbbbbb;background-color:#ffffff;font-size:11px;font-style:italic;text-align:right;\">This cell contains some macros. If there is a problem with displaying mathematical formulas, please run this cell to load these macros. </td></tr></table>\n",
    "$ \\newcommand{\\bra}[1]{\\langle #1|} $\n",
    "$ \\newcommand{\\ket}[1]{|#1\\rangle} $\n",
    "$ \\newcommand{\\braket}[2]{\\langle #1|#2\\rangle} $\n",
    "$ \\newcommand{\\dot}[2]{ #1 \\cdot #2} $\n",
    "$ \\newcommand{\\biginner}[2]{\\left\\langle #1,#2\\right\\rangle} $\n",
    "$ \\newcommand{\\mymatrix}[2]{\\left( \\begin{array}{#1} #2\\end{array} \\right)} $\n",
    "$ \\newcommand{\\myvector}[1]{\\mymatrix{c}{#1}} $\n",
    "$ \\newcommand{\\myrvector}[1]{\\mymatrix{r}{#1}} $\n",
    "$ \\newcommand{\\mypar}[1]{\\left( #1 \\right)} $\n",
    "$ \\newcommand{\\mybigpar}[1]{ \\Big( #1 \\Big)} $\n",
    "$ \\newcommand{\\sqrttwo}{\\frac{1}{\\sqrt{2}}} $\n",
    "$ \\newcommand{\\dsqrttwo}{\\dfrac{1}{\\sqrt{2}}} $\n",
    "$ \\newcommand{\\onehalf}{\\frac{1}{2}} $\n",
    "$ \\newcommand{\\donehalf}{\\dfrac{1}{2}} $\n",
    "$ \\newcommand{\\hadamard}{ \\mymatrix{rr}{ \\sqrttwo & \\sqrttwo \\\\ \\sqrttwo & -\\sqrttwo }} $\n",
    "$ \\newcommand{\\vzero}{\\myvector{1\\\\0}} $\n",
    "$ \\newcommand{\\vone}{\\myvector{0\\\\1}} $\n",
    "$ \\newcommand{\\vhadamardzero}{\\myvector{ \\sqrttwo \\\\  \\sqrttwo } } $\n",
    "$ \\newcommand{\\vhadamardone}{ \\myrvector{ \\sqrttwo \\\\ -\\sqrttwo } } $\n",
    "$ \\newcommand{\\myarray}[2]{ \\begin{array}{#1}#2\\end{array}} $\n",
    "$ \\newcommand{\\X}{ \\mymatrix{cc}{0 & 1 \\\\ 1 & 0}  } $\n",
    "$ \\newcommand{\\Z}{ \\mymatrix{rr}{1 & 0 \\\\ 0 & -1}  } $\n",
    "$ \\newcommand{\\Htwo}{ \\mymatrix{rrrr}{ \\frac{1}{2} & \\frac{1}{2} & \\frac{1}{2} & \\frac{1}{2} \\\\ \\frac{1}{2} & -\\frac{1}{2} & \\frac{1}{2} & -\\frac{1}{2} \\\\ \\frac{1}{2} & \\frac{1}{2} & -\\frac{1}{2} & -\\frac{1}{2} \\\\ \\frac{1}{2} & -\\frac{1}{2} & -\\frac{1}{2} & \\frac{1}{2} } } $\n",
    "$ \\newcommand{\\CNOT}{ \\mymatrix{cccc}{1 & 0 & 0 & 0 \\\\ 0 & 1 & 0 & 0 \\\\ 0 & 0 & 0 & 1 \\\\ 0 & 0 & 1 & 0} } $\n",
    "$ \\newcommand{\\norm}[1]{ \\left\\lVert #1 \\right\\rVert } $\n",
    "$ \\newcommand{\\pstate}[1]{ \\lceil \\mspace{-1mu} #1 \\mspace{-1.5mu} \\rfloor } $"
   ]
  },
  {
   "cell_type": "markdown",
   "id": "3e4243f1",
   "metadata": {},
   "source": [
    "#  Quantum Approximate Optimization Algorithm (QAOA)\n",
    "\n",
    "In this notebook, we will introduce the Quantum Approximate Optimization Algorithm (QAOA) and see how to implement the algorithm for the Max-Cut problem.\n"
   ]
  },
  {
   "cell_type": "markdown",
   "id": "17e5496c",
   "metadata": {},
   "source": [
    "## What is QAOA?\n",
    "\n",
    "QAOA, first introduced by Farhi et al. [2], is a hybrid quantum-classical algorithm (using both classical and quantum computation) that helps find an approximate solution for combinatoral optimization problems. \n"
   ]
  },
  {
   "cell_type": "markdown",
   "id": "9630423e",
   "metadata": {},
   "source": [
    "## What are Combinatorial Optimization Problems?\n",
    "\n",
    "In a combinatorial optimization problem, the goal is that given some binary constraints $\\alpha$ over bitstrings of length n, $\\it{z}\\in \\{0,1\\}^{n}$, we want to find the bitstring that maximizes the objective function\n",
    "$$\n",
    "\\text{argmax}_{\\it{z}}C (\\it{z}) = \\text{argmax}_{\\it{z}} \\sum_{\\alpha =1}^{m} C (\\it{z})\n",
    "$$\n",
    "where \n",
    "$$\n",
    "C_{\\alpha} (\\it{z}) = \\begin{cases}\n",
    "1, & \\text{if} \\, \\it{z} \\, \\text{satisfies the constraint} \\, \\alpha \\\\\n",
    "0, & \\text{if} \\, \\it{z} \\, \\text{does not satisfy the constraint} \\,\\alpha \\\\\n",
    "\\end{cases}\n",
    "$$\n",
    "\n",
    "are functions that takes in a bitstring and outputs $0$ or $1$, depending on whether it satisfies the constraint. \n",
    "\n",
    "There are various different examples such as the Traveling Salesman problem and Max-Cut problem. Here, we will focus on solving a Max-Cut problem with QAOA.\n"
   ]
  },
  {
   "cell_type": "markdown",
   "id": "a3084fae",
   "metadata": {},
   "source": [
    "## Why QAOA?\n",
    "\n",
    "In QNickel, we saw an example of solving the Max-Cut problem with Grover's algorithm, so the question is why use QAOA? The answer is although there has been great progress, we do not have fault-tolerant quantum computers yet. So in the meantime, we use a quantum-classical hybrid approach, so that we only use quantum computers for parts of the problem where cassical computers having difficulty computing."
   ]
  },
  {
   "cell_type": "markdown",
   "id": "194361b4",
   "metadata": {},
   "source": [
    "## How does QAOA work?\n",
    "\n",
    "QAOA is a hybrid algorithm. A general hybrid algorithm works as follows\n",
    "\n",
    "<img src=\"../Hybrid.png\" width=\"50%\" align=\"center\">\n",
    "\n",
    "There is a classical processing unit (CPU) and quantum processing unit (QPU). The idea is\n",
    "\n",
    "1) The CPU sends a parametrized circuit to the QPU with some initial guess of parameters.\n",
    "\n",
    "2) The QPU will then run this circuit for a number of shots and compute some observable and sample it.\n",
    "\n",
    "3) We feed the sample back to the CPU. \n",
    "\n",
    "4) The CPU can then further optimize parameters for the objective function.\n",
    "\n",
    "You repeat this cycle until you get a convergence to a good choice of paramters that optimizes your objective function.\n",
    "\n",
    "Now let us look at a more specific example, the Max-Cut problem with QAOA.\n",
    "\n",
    "For QAOA, you start with the state $\\ket{+}$ and the ansatz or parametrized circuit is made of a chain of 'Cost' (specific to the Max-Cut problem) and 'Mixer' Hamiltonians \n",
    "\n",
    "$$\n",
    "\\ket{\\psi} = e^{-i\\beta_{p}M}e^{-i\\gamma_{p}C}\\cdots e^{-i\\beta_{1}M}e^{-i\\gamma_{1}C}\\ket{+}\n",
    "$$\n",
    "where\n",
    "\\begin{align}\n",
    "\\text{Cost (C)}&=\\frac{1}{2}\\sum_{i,j=1}^{n}\\omega_{ij}\\frac{1-Z_{i}Z_{j}}{2}\\\\\n",
    "\\text{Mixer (M)}&=\\sum_{j=1}^{n}X_{j}\n",
    "\\end{align}\n",
    "\n",
    "and the quantum circuit will look like the folllowing\n",
    "\n",
    "<img src=\"../QAOAcircuit.png\" width=\"80%\" align=\"center\">\n",
    "\n",
    "Let us look at each component more closely.\n"
   ]
  },
  {
   "cell_type": "markdown",
   "id": "30d4007c",
   "metadata": {},
   "source": [
    "### Initial State\n",
    "\n",
    "We start with the state\n",
    "\n",
    "$$\n",
    "\\ket{+} = \\frac{1}{\\sqrt{2^{n}}}\\sum_{x=0}^{2^{n}-1}\\ket{x}\n",
    "$$\n",
    "\n",
    "which is just the equal superposition of all possible answers."
   ]
  },
  {
   "cell_type": "markdown",
   "id": "34f7b500",
   "metadata": {},
   "source": [
    "### Baker-Campbell-Hausdorff (BCH) Formula\n",
    "\n",
    "Before moving on how we implement the two Hamiltonians in our quantum circuit, we first introduce the BCH formula, which is given by\n",
    "\n",
    "$$\n",
    "e^{X}e^{Y} = e^{Z} \\quad \\text{where} \\quad Z = X+Y \\quad \\text{if} \\quad [X,Y] =0\n",
    "$$\n",
    "\n",
    "\\begin{align}\n",
    "[ Z_{i}Z_{j},Z_{m}Z_{n}] &=0\\\\\n",
    "e^{i\\gamma\\sum_{\\langle ij\\rangle}Z_{i}Z_{j}} &=  prod_{\\langle ij\\rangle} e^{Z}\n",
    "\\end{align}\n",
    "\n",
    "\\begin{align}\n",
    "[ Z_{i}Z_{j},Z_{m}Z_{n} ]=0\\\\\n",
    "\\end{align}\n"
   ]
  },
  {
   "cell_type": "markdown",
   "id": "ea02d335",
   "metadata": {},
   "source": [
    "### Cost Hamiltonian\n",
    "\n"
   ]
  },
  {
   "cell_type": "markdown",
   "id": "4c8244b9",
   "metadata": {},
   "source": [
    "### Mixer Hamiltonian"
   ]
  },
  {
   "cell_type": "markdown",
   "id": "7894f8b5",
   "metadata": {},
   "source": [
    "### References\n",
    "\n",
    "[1] S. Alam, Rigetti Computing Lectures, IBA Karachi (2020).\n",
    "\n",
    "[2] E. Farhi, J. Goldstone, and S. Gutmann, A Quantum Approximate Optimization Algorithm, arXiv.1411.4028 (2014)."
   ]
  }
 ],
 "metadata": {
  "kernelspec": {
   "display_name": "Python 3 (ipykernel)",
   "language": "python",
   "name": "python3"
  },
  "language_info": {
   "codemirror_mode": {
    "name": "ipython",
    "version": 3
   },
   "file_extension": ".py",
   "mimetype": "text/x-python",
   "name": "python",
   "nbconvert_exporter": "python",
   "pygments_lexer": "ipython3",
   "version": "3.9.17"
  }
 },
 "nbformat": 4,
 "nbformat_minor": 5
}
